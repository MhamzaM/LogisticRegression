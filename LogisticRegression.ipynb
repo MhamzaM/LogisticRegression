{
 "cells": [
  {
   "cell_type": "markdown",
   "metadata": {},
   "source": [
    "User Defined Functions"
   ]
  },
  {
   "cell_type": "code",
   "execution_count": 126,
   "metadata": {
    "collapsed": true
   },
   "outputs": [],
   "source": [
    "import os,numpy as np,pandas as pd,math,matplotlib.pyplot as plt\n",
    "\n",
    "\n",
    "#=================================FUNCTIONS==========================================\n",
    "\n",
    "def sigmoid(z):\n",
    "    return 1 / (1 + math.exp(-z))\n",
    "\n",
    "\n"
   ]
  },
  {
   "cell_type": "markdown",
   "metadata": {},
   "source": [
    "Main Function"
   ]
  },
  {
   "cell_type": "code",
   "execution_count": 138,
   "metadata": {},
   "outputs": [
    {
     "name": "stdout",
     "output_type": "stream",
     "text": [
      "Alphas: [0.0002, 0.0001, 0.14, 2, 10, 25]\n",
      "Errors: [188.2237721977892, 188.2237721977892, 188.2237721977892, 188.2237721977892, 188.2237721977892, 188.2237721977892]\n"
     ]
    },
    {
     "data": {
      "image/png": "[encoded data removed]",
      "text/plain": [
       "<matplotlib.figure.Figure at 0x20e3f12f0f0>"
      ]
     },
     "metadata": {},
     "output_type": "display_data"
    }
   ],
   "source": [
    "dir = \"data\"\n",
    "file = \"TicTacToeData.csv\"\n",
    "\n",
    "filename = os.path.join(dir,file)\n",
    "columns = ['TL','TM','TR','ML','MM','MR','BL','BM','BR','Result']\n",
    "\n",
    "df = pd.read_csv(filename, names = columns) #b = 0.21 (blank) x = 0.22 (player x) o = 0.23 (player o)\n",
    "df = df.sample(frac=1).reset_index(drop=True) #shuffling rows\n",
    "    \n",
    "    \n",
    "X = df[['TL','TM','TR','ML','MM','MR','BL','BM','BR']].as_matrix() #features values\n",
    "X = np.insert(X, 0, 1, axis=1) # b will get mulitplied with 1\n",
    "\n",
    "m = X.shape[0]\n",
    "\n",
    "W = np.array([np.random.rand(10)]) # Thetas including b\n",
    "\n",
    "Y = np.array(df['Result']) # Ground Truth\n",
    "\n",
    "\n",
    "   \n",
    "\n",
    "alpha = [0.0002,0.0001,0.14,2,10,25]\n",
    "\n",
    "A = []\n",
    "predictions = []\n",
    "error = []\n",
    "\n",
    "for i in range(len(alpha)):\n",
    "    \n",
    "    predictions = []\n",
    "    Z = np.dot(W,X.T) \n",
    "    \n",
    "    for col in Z.T:\n",
    "        predictions.append(sigmoid(col))\n",
    "\n",
    "    A = np.array(A)\n",
    "    A = np.asarray(predictions)\n",
    "    dz = A - Y\n",
    "    dz = np.array([dz])\n",
    "\n",
    "    dw = 1/m * np.dot(dz,X)\n",
    "\n",
    "\n",
    "    db = 1/m * np.sum(dz)\n",
    "\n",
    "\n",
    "\n",
    "    dw = dw - np.dot(alpha[i],dw) \n",
    "    db = db - np.dot(alpha[i],db)\n",
    "\n",
    "    error.append(abs(dz.sum()))\n",
    "\n",
    "       \n",
    "print(\"Alphas: \" + str(alpha))\n",
    "print(\"Errors: \" + str(error))\n",
    "\n",
    "plt.figure(num=None, figsize=(12, 9), dpi=80)\n",
    "plt.plot(alpha, error,'--bo')\n",
    "plt.title(\"Error wrt Alpha\")\n",
    "plt.xlabel(\"Alpha-Values\")\n",
    "plt.ylabel(\"Loss\")\n",
    "plt.yticks(errors)\n",
    "plt.show()\n",
    "\n"
   ]
  }
 ],
 "metadata": {
  "kernelspec": {
   "display_name": "Python 3",
   "language": "python",
   "name": "python3"
  },
  "language_info": {
   "codemirror_mode": {
    "name": "ipython",
    "version": 3
   },
   "file_extension": ".py",
   "mimetype": "text/x-python",
   "name": "python",
   "nbconvert_exporter": "python",
   "pygments_lexer": "ipython3",
   "version": "3.6.3"
  }
 },
 "nbformat": 4,
 "nbformat_minor": 2
}
